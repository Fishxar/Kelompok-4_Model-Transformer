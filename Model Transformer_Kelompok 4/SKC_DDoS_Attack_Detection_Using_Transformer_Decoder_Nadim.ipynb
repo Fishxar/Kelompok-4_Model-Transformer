{
  "nbformat": 4,
  "nbformat_minor": 0,
  "metadata": {
    "colab": {
      "provenance": []
    },
    "kernelspec": {
      "name": "python3",
      "display_name": "Python 3"
    },
    "language_info": {
      "name": "python"
    }
  },
  "cells": [
    {
      "cell_type": "code",
      "source": [
        "# menghubungkan colabs ke drive\n",
        "from google.colab import drive\n",
        "drive.mount('/content/drive')"
      ],
      "metadata": {
        "colab": {
          "base_uri": "https://localhost:8080/"
        },
        "id": "WZ3uXKuNLyDw",
        "outputId": "c005175b-ec17-4961-8c08-013fb1981af6"
      },
      "execution_count": null,
      "outputs": [
        {
          "output_type": "stream",
          "name": "stdout",
          "text": [
            "Drive already mounted at /content/drive; to attempt to forcibly remount, call drive.mount(\"/content/drive\", force_remount=True).\n"
          ]
        }
      ]
    },
    {
      "cell_type": "code",
      "execution_count": null,
      "metadata": {
        "id": "6ZAX1RPNGIsU"
      },
      "outputs": [],
      "source": [
        "#import modul yang diperlukan\n",
        "import pandas as pd\n",
        "import numpy as np\n",
        "import matplotlib.pyplot as plt\n",
        "import seaborn as sns\n",
        "from sklearn.model_selection import KFold\n",
        "from sklearn.preprocessing import StandardScaler\n",
        "from sklearn.metrics import classification_report, confusion_matrix, accuracy_score, f1_score\n",
        "import torch\n",
        "import torch.nn as nn\n",
        "import torch.optim as optim\n",
        "from torch.utils.data import Dataset, DataLoader"
      ]
    },
    {
      "cell_type": "code",
      "source": [
        "#mengambil dataset dari drive\n",
        "data = pd.read_csv('/content/drive/MyDrive/dataset/Binary_Class_Balanced_Dataset_4Lac_60_Features.csv')"
      ],
      "metadata": {
        "id": "lasCOwUbG_u0"
      },
      "execution_count": null,
      "outputs": []
    },
    {
      "cell_type": "code",
      "source": [
        "#menampilkan class\n",
        "plt.figure(figsize=(8, 6))\n",
        "sns.countplot(x='Label', data=data)\n",
        "plt.title('Distribusi Kelas')\n",
        "plt.show()"
      ],
      "metadata": {
        "colab": {
          "base_uri": "https://localhost:8080/",
          "height": 564
        },
        "id": "B8ys7l6QHFc0",
        "outputId": "6e21ad13-dbff-49fe-93b0-4cfe29a3a09d"
      },
      "execution_count": null,
      "outputs": [
        {
          "output_type": "display_data",
          "data": {
            "text/plain": [
              "<Figure size 800x600 with 1 Axes>"
            ],
            "image/png": "[encoded data removed]"
          },
          "metadata": {}
        }
      ]
    },
    {
      "cell_type": "code",
      "source": [
        "#memisahkan label\n",
        "X = data.drop('Label', axis=1)\n",
        "y = data['Label']"
      ],
      "metadata": {
        "id": "mJG7jKYCHG0c"
      },
      "execution_count": null,
      "outputs": []
    },
    {
      "cell_type": "code",
      "source": [
        "#normalisasi\n",
        "scaler = StandardScaler()\n",
        "X_scaled = scaler.fit_transform(X)"
      ],
      "metadata": {
        "id": "uOrvhqW-HL-l"
      },
      "execution_count": null,
      "outputs": []
    },
    {
      "cell_type": "code",
      "source": [
        "#fungsi ddos dataset\n",
        "class DDosDataset(Dataset):\n",
        "    def __init__(self, X, y):\n",
        "        self.X = torch.FloatTensor(X)\n",
        "        self.y = torch.LongTensor(y)\n",
        "\n",
        "    def __len__(self):\n",
        "        return len(self.y)\n",
        "\n",
        "    def __getitem__(self, idx):\n",
        "        return self.X[idx], self.y[idx]"
      ],
      "metadata": {
        "id": "LhyIEGEyHQZy"
      },
      "execution_count": null,
      "outputs": []
    },
    {
      "cell_type": "code",
      "source": [
        "#model transformer decoder\n",
        "class TransformerDecoderModel(nn.Module):\n",
        "    def __init__(self, input_dim, num_classes, d_model=64, nhead=4, num_layers=2, dropout=0.1):\n",
        "        super(TransformerDecoderModel, self).__init__()\n",
        "        self.embedding = nn.Linear(input_dim, d_model)\n",
        "        self.pos_encoder = nn.Sequential(\n",
        "            nn.Linear(d_model, d_model),\n",
        "            nn.ReLU(),\n",
        "            nn.Linear(d_model, d_model)\n",
        "        )\n",
        "        decoder_layer = nn.TransformerDecoderLayer(d_model=d_model, nhead=nhead, dropout=dropout)\n",
        "        self.transformer_decoder = nn.TransformerDecoder(decoder_layer, num_layers=num_layers)\n",
        "        self.fc = nn.Linear(d_model, num_classes)\n",
        "\n",
        "    def forward(self, x):\n",
        "        x = self.embedding(x).unsqueeze(1)  # Add sequence dimension\n",
        "        x = x + self.pos_encoder(x)\n",
        "        x = self.transformer_decoder(x, x)  # Use x as both input and memory\n",
        "        x = x.mean(dim=1)  # Global average pooling\n",
        "        x = self.fc(x)\n",
        "        return x"
      ],
      "metadata": {
        "id": "ezI3XmorHVs0"
      },
      "execution_count": null,
      "outputs": []
    },
    {
      "cell_type": "code",
      "source": [
        "#k fold cross validation\n",
        "k_folds = 10\n",
        "kf = KFold(n_splits=k_folds, shuffle=True, random_state=42)\n",
        "\n",
        "# Tidak perlu mengubah y ke values karena sudah numpy array\n",
        "input_dim = X.shape[1]\n",
        "num_classes = 2\n",
        "num_epochs = 10\n",
        "batch_size = 64\n",
        "learning_rate = 0.001\n",
        "\n",
        "all_accuracies = []\n",
        "all_f1_scores = []\n",
        "all_confusion_matrices = []\n",
        "\n",
        "for fold, (train_idx, val_idx) in enumerate(kf.split(X_scaled)):\n",
        "    print(f'Fold {fold + 1}/{k_folds}')\n",
        "\n",
        "    X_train, X_val = X_scaled[train_idx], X_scaled[val_idx]\n",
        "    y_train, y_val = y[train_idx].values, y[val_idx].values\n",
        "\n",
        "    train_dataset = DDosDataset(X_train, y_train)\n",
        "    val_dataset = DDosDataset(X_val, y_val)\n",
        "\n",
        "    train_loader = DataLoader(train_dataset, batch_size=batch_size, shuffle=True)\n",
        "    val_loader = DataLoader(val_dataset, batch_size=batch_size, shuffle=False)\n",
        "\n",
        "    model = TransformerDecoderModel(input_dim, num_classes)\n",
        "    criterion = nn.CrossEntropyLoss()\n",
        "    optimizer = optim.Adam(model.parameters(), lr=learning_rate)\n",
        "\n",
        "    # Training\n",
        "    for epoch in range(num_epochs):\n",
        "        model.train()\n",
        "        for batch_X, batch_y in train_loader:\n",
        "            optimizer.zero_grad()\n",
        "            outputs = model(batch_X)\n",
        "            loss = criterion(outputs, batch_y)\n",
        "            loss.backward()\n",
        "            optimizer.step()\n",
        "\n",
        "        print(f'Epoch [{epoch+1}/{num_epochs}], Loss: {loss.item():.4f}')\n",
        "\n",
        "    # Evaluation\n",
        "    model.eval()\n",
        "    y_pred = []\n",
        "    y_true = []\n",
        "\n",
        "    with torch.no_grad():\n",
        "        for batch_X, batch_y in val_loader:\n",
        "            outputs = model(batch_X)\n",
        "            _, predicted = torch.max(outputs, 1)\n",
        "            y_pred.extend(predicted.numpy())\n",
        "            y_true.extend(batch_y.numpy())\n",
        "\n",
        "    # Metrics\n",
        "    accuracy = accuracy_score(y_true, y_pred)\n",
        "    f1 = f1_score(y_true, y_pred, average='weighted')\n",
        "    cm = confusion_matrix(y_true, y_pred)\n",
        "\n",
        "    all_accuracies.append(accuracy)\n",
        "    all_f1_scores.append(f1)\n",
        "    all_confusion_matrices.append(cm)\n",
        "\n",
        "    print(f'Accuracy: {accuracy:.4f}')\n",
        "    print(f'F1 Score: {f1:.4f}')\n",
        "    print('Classification Report:')\n",
        "    print(classification_report(y_true, y_pred))\n",
        "    print('Confusion Matrix:')\n",
        "    print(cm)\n",
        "    print('\\n')\n",
        "\n",
        "# Final results\n",
        "print('Final Results:')\n",
        "print(f'Average Accuracy: {np.mean(all_accuracies):.4f} (+/- {np.std(all_accuracies):.4f})')\n",
        "print(f'Average F1 Score: {np.mean(all_f1_scores):.4f} (+/- {np.std(all_f1_scores):.4f})')\n",
        "\n",
        "# Plot average confusion matrix\n",
        "avg_cm = np.mean(all_confusion_matrices, axis=0)\n",
        "plt.figure(figsize=(8, 6))\n",
        "sns.heatmap(avg_cm, annot=True, fmt='.0f', cmap='Blues')\n",
        "plt.title('Average Confusion Matrix')\n",
        "plt.xlabel('Predicted')\n",
        "plt.ylabel('True')\n",
        "plt.show()"
      ],
      "metadata": {
        "colab": {
          "base_uri": "https://localhost:8080/",
          "height": 1000
        },
        "id": "07abtzSCHoR6",
        "outputId": "d45f968d-33a9-4dd8-eac7-3b92994473a6"
      },
      "execution_count": null,
      "outputs": [
        {
          "output_type": "stream",
          "name": "stdout",
          "text": [
            "Fold 1/10\n",
            "Epoch [1/10], Loss: 0.0585\n",
            "Epoch [2/10], Loss: 0.0818\n",
            "Epoch [3/10], Loss: 0.0291\n",
            "Epoch [4/10], Loss: 0.0393\n",
            "Epoch [5/10], Loss: 0.0489\n",
            "Epoch [6/10], Loss: 0.0653\n",
            "Epoch [7/10], Loss: 0.5323\n",
            "Epoch [8/10], Loss: 0.6184\n",
            "Epoch [9/10], Loss: 0.6956\n",
            "Epoch [10/10], Loss: 0.6926\n",
            "Accuracy: 0.4973\n",
            "F1 Score: 0.3303\n",
            "Classification Report:\n",
            "              precision    recall  f1-score   support\n",
            "\n",
            "           0       0.00      0.00      0.00     20109\n",
            "           1       0.50      1.00      0.66     19891\n",
            "\n",
            "    accuracy                           0.50     40000\n",
            "   macro avg       0.25      0.50      0.33     40000\n",
            "weighted avg       0.25      0.50      0.33     40000\n",
            "\n",
            "Confusion Matrix:\n",
            "[[    0 20109]\n",
            " [    0 19891]]\n",
            "\n",
            "\n",
            "Fold 2/10\n"
          ]
        },
        {
          "output_type": "stream",
          "name": "stderr",
          "text": [
            "/usr/local/lib/python3.10/dist-packages/sklearn/metrics/_classification.py:1531: UndefinedMetricWarning: Precision is ill-defined and being set to 0.0 in labels with no predicted samples. Use `zero_division` parameter to control this behavior.\n",
            "  _warn_prf(average, modifier, f\"{metric.capitalize()} is\", len(result))\n",
            "/usr/local/lib/python3.10/dist-packages/sklearn/metrics/_classification.py:1531: UndefinedMetricWarning: Precision is ill-defined and being set to 0.0 in labels with no predicted samples. Use `zero_division` parameter to control this behavior.\n",
            "  _warn_prf(average, modifier, f\"{metric.capitalize()} is\", len(result))\n",
            "/usr/local/lib/python3.10/dist-packages/sklearn/metrics/_classification.py:1531: UndefinedMetricWarning: Precision is ill-defined and being set to 0.0 in labels with no predicted samples. Use `zero_division` parameter to control this behavior.\n",
            "  _warn_prf(average, modifier, f\"{metric.capitalize()} is\", len(result))\n"
          ]
        },
        {
          "output_type": "stream",
          "name": "stdout",
          "text": [
            "Epoch [1/10], Loss: 0.0494\n",
            "Epoch [2/10], Loss: 0.0294\n",
            "Epoch [3/10], Loss: 0.0782\n",
            "Epoch [4/10], Loss: 0.1011\n",
            "Epoch [5/10], Loss: 0.6776\n",
            "Epoch [6/10], Loss: 0.6917\n",
            "Epoch [7/10], Loss: 0.6933\n",
            "Epoch [8/10], Loss: 0.6941\n",
            "Epoch [9/10], Loss: 0.6945\n",
            "Epoch [10/10], Loss: 0.6959\n",
            "Accuracy: 0.5008\n",
            "F1 Score: 0.3342\n",
            "Classification Report:\n",
            "              precision    recall  f1-score   support\n",
            "\n",
            "           0       0.00      0.00      0.00     19968\n",
            "           1       0.50      1.00      0.67     20032\n",
            "\n",
            "    accuracy                           0.50     40000\n",
            "   macro avg       0.25      0.50      0.33     40000\n",
            "weighted avg       0.25      0.50      0.33     40000\n",
            "\n",
            "Confusion Matrix:\n",
            "[[    0 19968]\n",
            " [    0 20032]]\n",
            "\n",
            "\n",
            "Fold 3/10\n"
          ]
        },
        {
          "output_type": "stream",
          "name": "stderr",
          "text": [
            "/usr/local/lib/python3.10/dist-packages/sklearn/metrics/_classification.py:1531: UndefinedMetricWarning: Precision is ill-defined and being set to 0.0 in labels with no predicted samples. Use `zero_division` parameter to control this behavior.\n",
            "  _warn_prf(average, modifier, f\"{metric.capitalize()} is\", len(result))\n",
            "/usr/local/lib/python3.10/dist-packages/sklearn/metrics/_classification.py:1531: UndefinedMetricWarning: Precision is ill-defined and being set to 0.0 in labels with no predicted samples. Use `zero_division` parameter to control this behavior.\n",
            "  _warn_prf(average, modifier, f\"{metric.capitalize()} is\", len(result))\n",
            "/usr/local/lib/python3.10/dist-packages/sklearn/metrics/_classification.py:1531: UndefinedMetricWarning: Precision is ill-defined and being set to 0.0 in labels with no predicted samples. Use `zero_division` parameter to control this behavior.\n",
            "  _warn_prf(average, modifier, f\"{metric.capitalize()} is\", len(result))\n"
          ]
        },
        {
          "output_type": "stream",
          "name": "stdout",
          "text": [
            "Epoch [1/10], Loss: 0.1214\n",
            "Epoch [2/10], Loss: 0.5454\n",
            "Epoch [3/10], Loss: 0.4724\n",
            "Epoch [4/10], Loss: 0.4202\n",
            "Epoch [5/10], Loss: 0.4807\n",
            "Epoch [6/10], Loss: 0.6871\n",
            "Epoch [7/10], Loss: 0.6929\n",
            "Epoch [8/10], Loss: 0.6912\n",
            "Epoch [9/10], Loss: 0.6935\n",
            "Epoch [10/10], Loss: 0.6922\n",
            "Accuracy: 0.5020\n",
            "F1 Score: 0.3356\n",
            "Classification Report:\n",
            "              precision    recall  f1-score   support\n",
            "\n",
            "           0       0.50      1.00      0.67     20081\n",
            "           1       0.00      0.00      0.00     19919\n",
            "\n",
            "    accuracy                           0.50     40000\n",
            "   macro avg       0.25      0.50      0.33     40000\n",
            "weighted avg       0.25      0.50      0.34     40000\n",
            "\n",
            "Confusion Matrix:\n",
            "[[20081     0]\n",
            " [19919     0]]\n",
            "\n",
            "\n",
            "Fold 4/10\n"
          ]
        },
        {
          "output_type": "stream",
          "name": "stderr",
          "text": [
            "/usr/local/lib/python3.10/dist-packages/sklearn/metrics/_classification.py:1531: UndefinedMetricWarning: Precision is ill-defined and being set to 0.0 in labels with no predicted samples. Use `zero_division` parameter to control this behavior.\n",
            "  _warn_prf(average, modifier, f\"{metric.capitalize()} is\", len(result))\n",
            "/usr/local/lib/python3.10/dist-packages/sklearn/metrics/_classification.py:1531: UndefinedMetricWarning: Precision is ill-defined and being set to 0.0 in labels with no predicted samples. Use `zero_division` parameter to control this behavior.\n",
            "  _warn_prf(average, modifier, f\"{metric.capitalize()} is\", len(result))\n",
            "/usr/local/lib/python3.10/dist-packages/sklearn/metrics/_classification.py:1531: UndefinedMetricWarning: Precision is ill-defined and being set to 0.0 in labels with no predicted samples. Use `zero_division` parameter to control this behavior.\n",
            "  _warn_prf(average, modifier, f\"{metric.capitalize()} is\", len(result))\n"
          ]
        },
        {
          "output_type": "stream",
          "name": "stdout",
          "text": [
            "Epoch [1/10], Loss: 0.0643\n",
            "Epoch [2/10], Loss: 0.0582\n",
            "Epoch [3/10], Loss: 0.0499\n",
            "Epoch [4/10], Loss: 0.0761\n",
            "Epoch [5/10], Loss: 0.0758\n",
            "Epoch [6/10], Loss: 0.0792\n",
            "Epoch [7/10], Loss: 0.0768\n",
            "Epoch [8/10], Loss: 0.0298\n",
            "Epoch [9/10], Loss: 0.0387\n",
            "Epoch [10/10], Loss: 0.1910\n",
            "Accuracy: 0.9463\n",
            "F1 Score: 0.9462\n",
            "Classification Report:\n",
            "              precision    recall  f1-score   support\n",
            "\n",
            "           0       0.99      0.90      0.94     19933\n",
            "           1       0.91      0.99      0.95     20067\n",
            "\n",
            "    accuracy                           0.95     40000\n",
            "   macro avg       0.95      0.95      0.95     40000\n",
            "weighted avg       0.95      0.95      0.95     40000\n",
            "\n",
            "Confusion Matrix:\n",
            "[[17934  1999]\n",
            " [  150 19917]]\n",
            "\n",
            "\n",
            "Fold 5/10\n",
            "Epoch [1/10], Loss: 0.0940\n",
            "Epoch [2/10], Loss: 0.0883\n",
            "Epoch [3/10], Loss: 0.0524\n",
            "Epoch [4/10], Loss: 0.2324\n",
            "Epoch [5/10], Loss: 0.6970\n",
            "Epoch [6/10], Loss: 0.6899\n",
            "Epoch [7/10], Loss: 0.6937\n",
            "Epoch [8/10], Loss: 0.6974\n",
            "Epoch [9/10], Loss: 0.6899\n",
            "Epoch [10/10], Loss: 0.6932\n",
            "Accuracy: 0.4982\n",
            "F1 Score: 0.3314\n",
            "Classification Report:\n",
            "              precision    recall  f1-score   support\n",
            "\n",
            "           0       0.00      0.00      0.00     20071\n",
            "           1       0.50      1.00      0.67     19929\n",
            "\n",
            "    accuracy                           0.50     40000\n",
            "   macro avg       0.25      0.50      0.33     40000\n",
            "weighted avg       0.25      0.50      0.33     40000\n",
            "\n",
            "Confusion Matrix:\n",
            "[[    0 20071]\n",
            " [    0 19929]]\n",
            "\n",
            "\n",
            "Fold 6/10\n"
          ]
        },
        {
          "output_type": "stream",
          "name": "stderr",
          "text": [
            "/usr/local/lib/python3.10/dist-packages/sklearn/metrics/_classification.py:1531: UndefinedMetricWarning: Precision is ill-defined and being set to 0.0 in labels with no predicted samples. Use `zero_division` parameter to control this behavior.\n",
            "  _warn_prf(average, modifier, f\"{metric.capitalize()} is\", len(result))\n",
            "/usr/local/lib/python3.10/dist-packages/sklearn/metrics/_classification.py:1531: UndefinedMetricWarning: Precision is ill-defined and being set to 0.0 in labels with no predicted samples. Use `zero_division` parameter to control this behavior.\n",
            "  _warn_prf(average, modifier, f\"{metric.capitalize()} is\", len(result))\n",
            "/usr/local/lib/python3.10/dist-packages/sklearn/metrics/_classification.py:1531: UndefinedMetricWarning: Precision is ill-defined and being set to 0.0 in labels with no predicted samples. Use `zero_division` parameter to control this behavior.\n",
            "  _warn_prf(average, modifier, f\"{metric.capitalize()} is\", len(result))\n"
          ]
        },
        {
          "output_type": "stream",
          "name": "stdout",
          "text": [
            "Epoch [1/10], Loss: 0.0759\n",
            "Epoch [2/10], Loss: 0.0901\n",
            "Epoch [3/10], Loss: 0.6964\n",
            "Epoch [4/10], Loss: 0.6967\n",
            "Epoch [5/10], Loss: 0.6954\n",
            "Epoch [6/10], Loss: 0.6939\n",
            "Epoch [7/10], Loss: 0.6925\n",
            "Epoch [8/10], Loss: 0.6924\n",
            "Epoch [9/10], Loss: 0.6946\n",
            "Epoch [10/10], Loss: 0.6927\n",
            "Accuracy: 0.4965\n",
            "F1 Score: 0.3295\n",
            "Classification Report:\n",
            "              precision    recall  f1-score   support\n",
            "\n",
            "           0       0.50      1.00      0.66     19860\n",
            "           1       0.00      0.00      0.00     20140\n",
            "\n",
            "    accuracy                           0.50     40000\n",
            "   macro avg       0.25      0.50      0.33     40000\n",
            "weighted avg       0.25      0.50      0.33     40000\n",
            "\n",
            "Confusion Matrix:\n",
            "[[19860     0]\n",
            " [20140     0]]\n",
            "\n",
            "\n",
            "Fold 7/10\n"
          ]
        },
        {
          "output_type": "stream",
          "name": "stderr",
          "text": [
            "/usr/local/lib/python3.10/dist-packages/sklearn/metrics/_classification.py:1531: UndefinedMetricWarning: Precision is ill-defined and being set to 0.0 in labels with no predicted samples. Use `zero_division` parameter to control this behavior.\n",
            "  _warn_prf(average, modifier, f\"{metric.capitalize()} is\", len(result))\n",
            "/usr/local/lib/python3.10/dist-packages/sklearn/metrics/_classification.py:1531: UndefinedMetricWarning: Precision is ill-defined and being set to 0.0 in labels with no predicted samples. Use `zero_division` parameter to control this behavior.\n",
            "  _warn_prf(average, modifier, f\"{metric.capitalize()} is\", len(result))\n",
            "/usr/local/lib/python3.10/dist-packages/sklearn/metrics/_classification.py:1531: UndefinedMetricWarning: Precision is ill-defined and being set to 0.0 in labels with no predicted samples. Use `zero_division` parameter to control this behavior.\n",
            "  _warn_prf(average, modifier, f\"{metric.capitalize()} is\", len(result))\n"
          ]
        },
        {
          "output_type": "stream",
          "name": "stdout",
          "text": [
            "Epoch [1/10], Loss: 0.0318\n",
            "Epoch [2/10], Loss: 0.1975\n",
            "Epoch [3/10], Loss: 0.2427\n",
            "Epoch [4/10], Loss: 0.1563\n",
            "Epoch [5/10], Loss: 0.0660\n",
            "Epoch [6/10], Loss: 0.6932\n",
            "Epoch [7/10], Loss: 0.6937\n",
            "Epoch [8/10], Loss: 0.6937\n",
            "Epoch [9/10], Loss: 0.6919\n",
            "Epoch [10/10], Loss: 0.6947\n",
            "Accuracy: 0.5007\n",
            "F1 Score: 0.3341\n",
            "Classification Report:\n",
            "              precision    recall  f1-score   support\n",
            "\n",
            "           0       0.50      1.00      0.67     20026\n",
            "           1       0.00      0.00      0.00     19974\n",
            "\n",
            "    accuracy                           0.50     40000\n",
            "   macro avg       0.25      0.50      0.33     40000\n",
            "weighted avg       0.25      0.50      0.33     40000\n",
            "\n",
            "Confusion Matrix:\n",
            "[[20026     0]\n",
            " [19974     0]]\n",
            "\n",
            "\n",
            "Fold 8/10\n"
          ]
        },
        {
          "output_type": "stream",
          "name": "stderr",
          "text": [
            "/usr/local/lib/python3.10/dist-packages/sklearn/metrics/_classification.py:1531: UndefinedMetricWarning: Precision is ill-defined and being set to 0.0 in labels with no predicted samples. Use `zero_division` parameter to control this behavior.\n",
            "  _warn_prf(average, modifier, f\"{metric.capitalize()} is\", len(result))\n",
            "/usr/local/lib/python3.10/dist-packages/sklearn/metrics/_classification.py:1531: UndefinedMetricWarning: Precision is ill-defined and being set to 0.0 in labels with no predicted samples. Use `zero_division` parameter to control this behavior.\n",
            "  _warn_prf(average, modifier, f\"{metric.capitalize()} is\", len(result))\n",
            "/usr/local/lib/python3.10/dist-packages/sklearn/metrics/_classification.py:1531: UndefinedMetricWarning: Precision is ill-defined and being set to 0.0 in labels with no predicted samples. Use `zero_division` parameter to control this behavior.\n",
            "  _warn_prf(average, modifier, f\"{metric.capitalize()} is\", len(result))\n"
          ]
        },
        {
          "output_type": "stream",
          "name": "stdout",
          "text": [
            "Epoch [1/10], Loss: 0.0709\n",
            "Epoch [2/10], Loss: 0.1091\n",
            "Epoch [3/10], Loss: 0.6994\n",
            "Epoch [4/10], Loss: 0.6783\n",
            "Epoch [5/10], Loss: 0.6887\n",
            "Epoch [6/10], Loss: 0.6945\n",
            "Epoch [7/10], Loss: 0.6857\n",
            "Epoch [8/10], Loss: 0.6909\n",
            "Epoch [9/10], Loss: 0.6931\n",
            "Epoch [10/10], Loss: 0.6949\n",
            "Accuracy: 0.4972\n",
            "F1 Score: 0.3303\n",
            "Classification Report:\n",
            "              precision    recall  f1-score   support\n",
            "\n",
            "           0       0.50      1.00      0.66     19889\n",
            "           1       0.00      0.00      0.00     20111\n",
            "\n",
            "    accuracy                           0.50     40000\n",
            "   macro avg       0.25      0.50      0.33     40000\n",
            "weighted avg       0.25      0.50      0.33     40000\n",
            "\n",
            "Confusion Matrix:\n",
            "[[19889     0]\n",
            " [20111     0]]\n",
            "\n",
            "\n",
            "Fold 9/10\n"
          ]
        },
        {
          "output_type": "stream",
          "name": "stderr",
          "text": [
            "/usr/local/lib/python3.10/dist-packages/sklearn/metrics/_classification.py:1531: UndefinedMetricWarning: Precision is ill-defined and being set to 0.0 in labels with no predicted samples. Use `zero_division` parameter to control this behavior.\n",
            "  _warn_prf(average, modifier, f\"{metric.capitalize()} is\", len(result))\n",
            "/usr/local/lib/python3.10/dist-packages/sklearn/metrics/_classification.py:1531: UndefinedMetricWarning: Precision is ill-defined and being set to 0.0 in labels with no predicted samples. Use `zero_division` parameter to control this behavior.\n",
            "  _warn_prf(average, modifier, f\"{metric.capitalize()} is\", len(result))\n",
            "/usr/local/lib/python3.10/dist-packages/sklearn/metrics/_classification.py:1531: UndefinedMetricWarning: Precision is ill-defined and being set to 0.0 in labels with no predicted samples. Use `zero_division` parameter to control this behavior.\n",
            "  _warn_prf(average, modifier, f\"{metric.capitalize()} is\", len(result))\n"
          ]
        },
        {
          "output_type": "stream",
          "name": "stdout",
          "text": [
            "Epoch [1/10], Loss: 0.0769\n",
            "Epoch [2/10], Loss: 0.0353\n",
            "Epoch [3/10], Loss: 0.0606\n",
            "Epoch [4/10], Loss: 0.0875\n",
            "Epoch [5/10], Loss: 0.0476\n",
            "Epoch [6/10], Loss: 0.0543\n",
            "Epoch [7/10], Loss: 0.0720\n",
            "Epoch [8/10], Loss: 0.1053\n",
            "Epoch [9/10], Loss: 0.0754\n",
            "Epoch [10/10], Loss: 0.0651\n",
            "Accuracy: 0.5235\n",
            "F1 Score: 0.4309\n",
            "Classification Report:\n",
            "              precision    recall  f1-score   support\n",
            "\n",
            "           0       0.51      0.93      0.66     20064\n",
            "           1       0.61      0.12      0.20     19936\n",
            "\n",
            "    accuracy                           0.52     40000\n",
            "   macro avg       0.56      0.52      0.43     40000\n",
            "weighted avg       0.56      0.52      0.43     40000\n",
            "\n",
            "Confusion Matrix:\n",
            "[[18563  1501]\n",
            " [17559  2377]]\n",
            "\n",
            "\n",
            "Fold 10/10\n",
            "Epoch [1/10], Loss: 0.0860\n",
            "Epoch [2/10], Loss: 0.0823\n",
            "Epoch [3/10], Loss: 0.0538\n",
            "Epoch [4/10], Loss: 0.0295\n",
            "Epoch [5/10], Loss: 0.0177\n",
            "Epoch [6/10], Loss: 0.0246\n",
            "Epoch [7/10], Loss: 0.0759\n",
            "Epoch [8/10], Loss: 0.2168\n",
            "Epoch [9/10], Loss: 0.1626\n",
            "Epoch [10/10], Loss: 0.1246\n",
            "Accuracy: 0.4763\n",
            "F1 Score: 0.3889\n",
            "Classification Report:\n",
            "              precision    recall  f1-score   support\n",
            "\n",
            "           0       0.49      0.85      0.62     19999\n",
            "           1       0.40      0.10      0.16     20001\n",
            "\n",
            "    accuracy                           0.48     40000\n",
            "   macro avg       0.44      0.48      0.39     40000\n",
            "weighted avg       0.44      0.48      0.39     40000\n",
            "\n",
            "Confusion Matrix:\n",
            "[[17088  2911]\n",
            " [18038  1963]]\n",
            "\n",
            "\n",
            "Final Results:\n",
            "Average Accuracy: 0.5439 (+/- 0.1346)\n",
            "Average F1 Score: 0.4091 (+/- 0.1819)\n"
          ]
        },
        {
          "output_type": "display_data",
          "data": {
            "text/plain": [
              "<Figure size 800x600 with 2 Axes>"
            ],
            "image/png": "[encoded data removed]"
          },
          "metadata": {}
        }
      ]
    },
    {
      "cell_type": "code",
      "source": [],
      "metadata": {
        "id": "Xxab2PhhLwBI"
      },
      "execution_count": null,
      "outputs": []
    },
    {
      "cell_type": "code",
      "source": [
        "print('Final Results:')\n",
        "print(f'Average Accuracy: {np.mean(all_accuracies):.4f} (+/- {np.std(all_accuracies):.4f})')\n",
        "print(f'Average F1 Score: {np.mean(all_f1_scores):.4f} (+/- {np.std(all_f1_scores):.4f})')"
      ],
      "metadata": {
        "colab": {
          "base_uri": "https://localhost:8080/"
        },
        "id": "69mTYQfYH-U0",
        "outputId": "be1e7d73-f755-44ea-b18a-476902101cdf"
      },
      "execution_count": null,
      "outputs": [
        {
          "output_type": "stream",
          "name": "stdout",
          "text": [
            "Final Results:\n",
            "Average Accuracy: 0.5439 (+/- 0.1346)\n",
            "Average F1 Score: 0.4091 (+/- 0.1819)\n"
          ]
        }
      ]
    },
    {
      "cell_type": "code",
      "source": [
        "avg_cm = np.mean(all_confusion_matrices, axis=0)\n",
        "plt.figure(figsize=(8, 6))\n",
        "sns.heatmap(avg_cm, annot=True, fmt='.0f', cmap='Blues')\n",
        "plt.title('Average Confusion Matrix')\n",
        "plt.xlabel('Predicted')\n",
        "plt.ylabel('True')\n",
        "plt.show()"
      ],
      "metadata": {
        "colab": {
          "base_uri": "https://localhost:8080/",
          "height": 564
        },
        "id": "GIx0NCJNIERB",
        "outputId": "b171bc38-0244-46bf-b601-79f7cb3240e2"
      },
      "execution_count": null,
      "outputs": [
        {
          "output_type": "display_data",
          "data": {
            "text/plain": [
              "<Figure size 800x600 with 2 Axes>"
            ],
            "image/png": "[encoded data removed]"
          },
          "metadata": {}
        }
      ]
    },
    {
      "cell_type": "code",
      "source": [
        "# Visualisasi Akurasi dan F1 Score\n",
        "metrics = [accuracy, f1]\n",
        "metric_names = ['Accuracy', 'F1 Score']\n",
        "\n",
        "plt.figure(figsize=(8, 5))\n",
        "sns.barplot(x=metric_names, y=metrics, palette='viridis')\n",
        "plt.title('Akurasi dan F1 Score')\n",
        "plt.ylim(0, 1)\n",
        "plt.ylabel('Nilai')\n",
        "plt.show()"
      ],
      "metadata": {
        "colab": {
          "base_uri": "https://localhost:8080/",
          "height": 555
        },
        "id": "vDnUKyBgRmrX",
        "outputId": "dbbf3beb-d290-4392-bbd8-2cd0dec023f2"
      },
      "execution_count": null,
      "outputs": [
        {
          "output_type": "stream",
          "name": "stderr",
          "text": [
            "<ipython-input-22-8ca8d246c1d8>:6: FutureWarning: \n",
            "\n",
            "Passing `palette` without assigning `hue` is deprecated and will be removed in v0.14.0. Assign the `x` variable to `hue` and set `legend=False` for the same effect.\n",
            "\n",
            "  sns.barplot(x=metric_names, y=metrics, palette='viridis')\n"
          ]
        },
        {
          "output_type": "display_data",
          "data": {
            "text/plain": [
              "<Figure size 800x500 with 1 Axes>"
            ],
            "image/png": "[encoded data removed]"
          },
          "metadata": {}
        }
      ]
    }
  ]
}